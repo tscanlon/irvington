{
 "cells": [
  {
   "cell_type": "code",
   "execution_count": 24,
   "id": "e0782547-0d91-40ad-a828-14f8e26e6063",
   "metadata": {},
   "outputs": [],
   "source": [
    "import urllib3\n",
    "from html.parser import HTMLParser\n",
    "from bs4 import BeautifulSoup\n",
    "from markdownify import markdownify as md "
   ]
  },
  {
   "cell_type": "code",
   "execution_count": 4,
   "id": "caae7ebc-564b-4fa2-8331-bd5dbec3c180",
   "metadata": {},
   "outputs": [],
   "source": [
    "hdr = { 'User-Agent': 'Mozilla/5.0 (X11; Linux x86_64) AppleWebKit/537.11 (KHTML, like Gecko) Chrome/23.0.1271.64 Safari/537.11',\n",
    "       'Accept': 'text/html,application/xhtml+xml,application/xml;q=0.9,*/*;q=0.8',}\n",
    "site = 'https://ihs-fusd-ca.schoolloop.com/pf4/cms2/view_page?d=x&group_id=1548490821811&vdid=i7b7231xja81kp'\n",
    "\n",
    "http = urllib3.PoolManager()\n",
    "r = http.request('GET', site)"
   ]
  },
  {
   "cell_type": "code",
   "execution_count": 6,
   "id": "37fea106-23fd-4d62-b8d1-61be5ff30db0",
   "metadata": {},
   "outputs": [],
   "source": [
    "schoolurls = []\n",
    "\n",
    "class MyHTMLParser(HTMLParser):\n",
    "    def handle_starttag(self, tag, attrs):\n",
    "        if tag == 'a':\n",
    "            for data in attrs:\n",
    "                if (data[0] == 'href') and data[1].startswith('https://ihs-fusd-ca.schoolloop.com'):\n",
    "                    schoolurls.append(data[1])\n",
    "                    \n",
    "class Irvington():\n",
    "    \n",
    "    def __init__(self, root):\n",
    "        self.root = root\n",
    "        self.parsed_pages = {\n",
    "            # url : IrvPage\n",
    "            \"/\" : self.find_links(root)\n",
    "        }\n",
    "        \n",
    "    def find_links(self):\n",
    "        pass\n",
    "            "
   ]
  },
  {
   "cell_type": "code",
   "execution_count": 7,
   "id": "982f5b2e-75ff-415a-bb7f-67377d98964a",
   "metadata": {},
   "outputs": [
    {
     "name": "stdout",
     "output_type": "stream",
     "text": [
      "['https://ihs-fusd-ca.schoolloop.com/pf4/cms2/view_page?d=x&group_id=1545467470156&vdid=ri7bm22omuy353', 'https://ihs-fusd-ca.schoolloop.com/pf4/cms2/view_page?d=x&group_id=1548490821811&vdid=i7b23ml1a81s6', 'https://ihs-fusd-ca.schoolloop.com/pf4/cms2/view_page?d=x&group_id=1545467465006&vdid=iy76cb22wuj2lp', 'https://ihs-fusd-ca.schoolloop.com/careercenter']\n"
     ]
    }
   ],
   "source": [
    "parser = MyHTMLParser()\n",
    "parser.feed(str(r.data))\n",
    "print(schoolurls)"
   ]
  },
  {
   "cell_type": "code",
   "execution_count": null,
   "id": "db8ac6b7-7eef-406e-9889-f63f3b1bef25",
   "metadata": {},
   "outputs": [],
   "source": [
    "soup = BeautifulSoup(str(r.data))\n",
    "for link in soup.find_all('a'):\n",
    "    print(link.get('href'))\n",
    "    \n",
    "for path in soup.find_all('a', class_=\"sl-cms2-breadcrumb__link\"):\n",
    "    print(path)"
   ]
  },
  {
   "cell_type": "code",
   "execution_count": 27,
   "id": "caea8eb2-92cd-4847-81e2-5330b638b6a4",
   "metadata": {},
   "outputs": [
    {
     "name": "stdout",
     "output_type": "stream",
     "text": [
      "\\n\\n\\n\\n\\n\\n\\n\\n\\n\\n\\n\\n\\n # Library Overview\n",
      "\n",
      "\\n\\n\\n \\n\\n\\n\\n\\n\\n\\n\\n\\n\\n\\n\\n\\n\\n\\n\\n\\n\\n\\n\\n\\n\\n\\n\\n\\n\\n\\n\\n\\n\\n\\n\\n\\n\\n\\n\\n\\n\\n\\n\\n\\n\\n\\nWelcome to the Irvington High School Library\\n\\n**Dear Vikings:** We are so excited to be open in-person again for 2021-22! Some rules about using the library are  different this Fall, and our new hours are **8:00AM to 3:45PM**.\\n\\n \\n\\n\n",
      "\n",
      "\\n\\t\\n\\t\\t|\\n\\t\\t\\t \\n\\t\\t\\t**Library Resources: Web Catalog and Electronic Databases**\\n\\t\\t\\t |\\n\\t\\t\n",
      "\\n\\t\\t|\\n\\t\\t\\t \\n\\t\\t\\t[dest](https://search.follettsoftware.com/metasearch/ui/2612)[Destiny Discover Web Catalog](https://search.follettsoftware.com/metasearch/ui/2612)\\n\\n\\t\\t\\tClick on the link above that says \"Destiny Discover Web Catalog\" to start finding regular books,e-books, and audiobooks in our catalog. **Log in** to access the e-books, put a book on hold, renew a book, save a list of books you want to read later, and more. **Students: your login is the first part of your FUSD Google account (everything before the @), and your password is your student ID number.** Teachers, please contact a librarian for your password.\\n\\t\\t\\t |\\n\\t\\t\n",
      "\\n\\t\\t|\\n\\t\\t\\t \\n\\t\\t\\t[proquest product portaLink to All ProQuest Databases](https://explore.proquest.com/portal/home?accountid=164834) \\n\\n\\t\\t\\tNote: \"SIRS Discoverer\" is elementary and middle school level. Use \"SIRS Issues Researcher\" instead!\\n\\t\\t\\t |\\n\\t\\t\n",
      "\\n\\t\\t|\\n\\t\\t\\t **elib[E-Library: ProQuest Database #1](https://explore.proquest.com/elibrary/home?accountid=164834)**\\n\\t\\t\\tSee a librarian for a username and password to access this database. E-library is good for all research topics, and offers an option in the Advanced Search to narrow your search to academic journals only. **Note: all our databases provide MLA 8  citations for you, but make sure you check them to make sure there are no mistakes!**\\n\\t\\t\\t |\\n\\t\\t\n",
      "\\n\\t\\t|\\n\\t\\t\\t \\n\\t\\t\\t**[sirsSIRS Researcher: ProQuest Database #2](http://sks.sirs.com)**\\n\\n\\t\\t\\tSee a librarian for a username and password to access this database. SIRS Researcher is built around social issues, so it will be especially useful for WIP, QUEST, and Social Studies.**Note: all our databases provide MLA 8 citations , but make sure you check them!**\\n\\t\\t\\t |\\n\\t\\t\n",
      "\\n\\t\\t|\\n\\t\\t\\t \\n\\t\\t\\t**[ebscoEBSCOHost Academic Search](http://search.ebscohost.com/login.aspx?profile=ehost&custid=S9275898&authtype=ip,uid):**\\n\\n\\t\\t\\tA multidisciplinary database providing thousands of full-text sources. One of the best databases for academic journals for benchmarks and other scholarly research projects. **Note: all our databases provide MLA 8 citations, but make sure you check them!**\\n\\t\\t\\t |\\n\\t\\t\n",
      "\\n\\t\\t|\\n\\t\\t\\t \\n\\t\\t\\t**[sci](http://search.ebscohost.com/login.aspx?profile=scirc&custid=S9275898&authtype=ip,uid)SCIENCE DATABASES:**\\n\\n\\t\\t\\t[Science Reference Center](http://search.ebscohost.com/login.aspx?profile=scirc&custid=S9275898&authtype=ip,uid):\\n\\n\\t\\t\\t An EBSCO database featuring reliable information on life sciences, physical sciences, math, and technology, including over 200 science periodicals, 275,000 images, 2,900 biographies, and 500 science videos. Great place to research for the Change Project and for Science classes at all levels.\\n\\n\\t\\t\\tNEW SCIENCE DATABASES FROM THE CALIFORNIA STATE LIBRARY! Password is the same as our other databases:\\n\\n\\t\\t\\t[Gale in Context: Environmental Science](https://link.gale.com/apps/GRNR?u=frem0614400)\\n\\n\\t\\t\\t[Gale Interactive: Science](https://link.gale.com/apps/ISSCI?u=frem0614400)\\n\\n\\t\\t\\t[National Geographic for Kids](https://link.gale.com/apps/NGMK?u=frem0614400)\\n\\t\\t\\t |\\n\\t\\t\n",
      "\\n\\t\\t|\\n\\t\\t\\t \\n\\t\\t\\t[histHistory Reference Center](http://search.ebscohost.com/login.aspx?profile=hrc&custid=S9275898&authtype=ip,uid):\\n\\n\\t\\t\\t An EBSCO database for both American and world history. Includes 640,000 articles from peer-reviewed academic journals, 74,000 primary source documents, 81,000 biographies, 2,000 full-text reference books, encyclopedias and non-fiction books, and 44,000 images and over 80 hours of video.\\n\\t\\t\\t |\\n\\t\\t\n",
      "\\n\\t\\t|\\n\\t\\t\\t \\n\\t\\t\\t[litLiterary Reference Center](https://web.s.ebscohost.com/lrc/search/basic?vid=0&sid=f33e4611-42b0-4c75-8245-05d90c7ea425%40redis)\\n\\n\\t\\t\\tAn EBSCO database about authors and literature, containing biographical information on authors, full text of classic works, and analysis of works, literary movements, and genres.\\n\\t\\t\\t |\\n\\t\\t\n",
      "\\n\\t\\t|\\n\\t\\t\\t \\n\\t\\t\\t[exExplora for High Schools](http://search.ebscohost.com/login.aspx?profile=src&custid=S9275898&authtype=ip,uid): \\n\\n\\t\\t\\tAn EBSCO database designed for high school students and educators, this is a user-friendly way to look up articles and facts for research papers, class projects or homework. Does NOT include EBSCO's academic journal database. Not ideal for QUEST. **Note: all our databases provide MLA 8  citations, but make sure you check them!**\\n\\t\\t\\t |\\n\\t\\t\n",
      "\\n\\t\\t|\\n\\t\\t\\t \\n\\t\\t\\t[Explora Advanced](http://search.ebscohost.com/login.aspx?profile=irv_adv&custid=S9275898&authtype=ip,uid):\\n\\n\\t\\t\\tLike Explora, user-friendly interface, but with academic journals. **Note: all our databases provide MLA 8  citations, but make sure you check them!**\\n\\t\\t\\t |\\n\\t\\t\n",
      "\\n\\t\\t|\\n\\t\\t\\t \\n\\t\\t\\t[povPoints of View Reference Center](http://search.ebscohost.com/login.aspx?profile=pov&custid=S9275898&authtype=ip,uid):\\n\\n\\t\\t\\tAn EBSCO database designed around controversial current issues. A good place for the WIP and QUEST benchmarks as well as any debatable current topic in History, Science, English, etc. Covers over 400 topics, presenting an overview, point, counterpoint, and guide to critical analysis along with related information, including articles and images.\\n\\t\\t\\t |\\n\\t\\t\n",
      "\\n\\t\\t|\\n\\t\\t\\t \\n\\t\\t\\t**tab[Gale E-Book Library and](https://www.galepages.com/?loc=irvinghs)**[**Gale History in Context Database (for U.S. History)**](https://www.galepages.com/?loc=irvinghs)\\n\\t\\t\\t |\\n\\t\\t\n",
      "\\n\\t\\t|\\n\\t\\t\\t \\n\\t\\t\\tResources Beyond IHS Library\\n\\t\\t\\t |\\n\\t\\t\n",
      "\\n\\t\\t|\\n\\t\\t\\t \\n\\t\\t\\t**aclAlameda County Public Library Databases**\\n\\n\\t\\t\\tWe have access to ProQuest and EBSCO databases at IHS, but through the public library, you have access to hundreds of databases! If you don't have a library card, [CLICK HERE FOR AN E-CARD](https://alam1.aclibrary.org/selfreg~S2). Then visit: [www.aclibrary.org/az.php](https://www.aclibrary.org/az.php) to access databases. There are many choices. **BIOGRAPHIES IN CONTEXT** and **[OPPOSING VIEWPOINTS](http://login.ezproxy.aclibrary.org/login?qurl=http%3a%2f%2finfotrac.galegroup.com%2fitweb%2falamco_main%3fdb%3dOVIC)** are two of the most useful public library databases. Ask a librarian if you need help. You can also get these databases via an app on your smartphone. Ask a librarian FMI. \\n\\t\\t\\t |\\n\\t\\t\n",
      "\\n\\t\\t|\\n\\t\\t\\t [britEncyclopedia Britannica](http://school.eb.com/)\\n\\t\\t\\t \\n\\n\\t\\t\\t This up-to-date online encyclopedia includes articles at different reading levels and links to multimedia resources and websites. The password is the same as all our other databases.\\n\\t\\t\\t |\\n\\t\\t\n",
      "\\n\\t\\t|\\n\\t\\t\\t \\n\\t\\t\\t**[owlPurdue Owl](https://owl.purdue.edu/owl/research_and_citation/mla_style/mla_formatting_and_style_guide/mla_formatting_and_style_guide.html)**\\n\\n\\t\\t\\tOur favorite MLA bibliography resource! From Purdue University, Indiana. Updated to the new *MLA 8th Edition.*\\n\\t\\t\\t |\\n\\t\\t\n",
      "\\n\\t\\n\n",
      "\\n\\n \\n\\n### ****Librarians:****\n",
      "\n",
      "\\n\\n\\nMartha Morales, Library Media Technician \n",
      "\n",
      "\\n\\n(510) 656-5711 extension  46375\n",
      "\n",
      "\\n\\n**mmorales@fusdk12.net**\n",
      "\n",
      "\\n\\n \n",
      "\n",
      "\\n\\nAllyson McAuley, Library Media Teacher\n",
      "\n",
      "\\n\\n(510) 656-5711 extension 46376\n",
      "\n",
      "\\n\\n**amcauley@fusdk12.net**\n",
      "\n",
      "\\n\\n\\n \\n\\n**Other Information:**\\n\\n\n",
      "\n",
      "\\n\\t\\n\\t\\t|\\n\\t\\t\\t \\n\\t\\t\\t********watchH********o********urs******** \\n\\t\\t\\t |\\n\\t\\t\\t \\n\\t\\t\\t****8:00 - 3:45 every day****\\n\\t\\t\\t |\\n\\t\\t\n",
      "\\n\\t\\t|\\n\\t\\t\\t \\n\\t\\t\\t\\n\\t\\t\\tbook\\n\\t\\t\\t\\n\\n\\t\\t\\t**Printing and Copying**\\n\\t\\t\\t |\\n\\t\\t\\t \\n\\t\\t\\t**PRINTING:** Black & white only; we have no color ink. We appreciate optional donations for printing. Ink for our printer is $175 per cartridge, and we can go through 4 reams (packages) of paper a day during benchmark deadlines! It's hard to support printing for the whole school, get books, and keep the library running on our limited budget. Please help us if you can.\\n\\t\\t\\t \\n\\t\\t\\t**COPYING:** The copy machine is located behind Ms. Morales' desk. It is for students only.\\n\\t\\t\\t |\\n\\t\\t\n",
      "\\n\\t\\t|\\n\\t\\t\\t \\n\\t\\t\\tcart\\n\\n\\t\\t\\t**Checkouts**\\n\\t\\t\\t |\\n\\t\\t\\t You can check out 5 books at a time for 3 weeks, and renew up to 3 times. |\\n\\t\\t\n",
      "\\n\\t\\t|\\n\\t\\t\\t \\n\\t\\t\\tcomp\\n\\n\\t\\t\\t**Tech**\\n\\t\\t\\t |\\n\\t\\t\\t \\n\\t\\t\\tComputers in the library and career center are available for student use. **It is a violation of our school's Technology Agreement to log in as anyone other than yourself or to access websites blocked by the FUSD filter.** If you would like to request that a legitimate website be unblocked, please see Ms. McAuley, who will submit a request to FUSD for you. If you forget your password, please see a librarian, who can reset it for you.\\n\\n\\t\\t\\t\\n\\t\\t\\t**We also have wifi:**Wireless Network #1: Cutover, Password: NewNetwork. Wireless network #2: FUSD Student, Password: Use your school Google password to log in.\\n\\t\\t\\t |\\n\\t\\t\n",
      "\\n\\t\\t|\\n\\t\\t\\t **Donations** |\\n\\t\\t\\t \\n\\t\\t\\tIHS Library serves over 2,000 students and runs on less than $2 per student per year, far less than the national average.\\n\\n\\t\\t\\t**We would be extremely grateful for donations of:** tissues, paper towels, printer paper, staples and paperclips, 3x5 index cards, scotch tape, magazines with content appropriate for high school, fiction books at our students' level (gently used OK) or new nonfiction books. We regret that we *cannot* accept donations of nonfiction older than 5 years, fiction for students younger than grade 9, or books with highlighting or other damage.\\n\\t\\t\\t |\\n\\t\\t\n",
      "\\n\\t\\n\n",
      "\\n\\n\\n\\n\\n\\n\\nvar playerOptions = {\\n blockID:\"ix7b2341a81pv\",\\n};\\nnew CMS2InlineRTEPlayer(playerOptions);\\n\\n\\n \\n\\n\\n\\n\\n\\n\\n\\n\\n\\n\\n\\n\\n\\n\\n\\n\\n\\n\\n\\n\\n\\n\\n\\n\\n\\n\\n\\n\\n\\n\\n\n"
     ]
    }
   ],
   "source": [
    "#derp = str(soup.h1)\n",
    "derp = str(soup.find(\"div\", {\"id\": \"block_i2a501im2l190\"}))\n",
    "print(md(derp, heading_style=\"ATX\"))\n",
    "\n"
   ]
  },
  {
   "cell_type": "code",
   "execution_count": null,
   "id": "66178eab-2377-4c10-90a8-8540c639f506",
   "metadata": {},
   "outputs": [],
   "source": []
  }
 ],
 "metadata": {
  "kernelspec": {
   "display_name": "Python 3 (ipykernel)",
   "language": "python",
   "name": "python3"
  },
  "language_info": {
   "codemirror_mode": {
    "name": "ipython",
    "version": 3
   },
   "file_extension": ".py",
   "mimetype": "text/x-python",
   "name": "python",
   "nbconvert_exporter": "python",
   "pygments_lexer": "ipython3",
   "version": "3.10.4"
  }
 },
 "nbformat": 4,
 "nbformat_minor": 5
}
